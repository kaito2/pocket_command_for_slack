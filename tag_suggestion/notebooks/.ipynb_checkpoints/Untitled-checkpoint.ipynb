{
 "cells": [
  {
   "cell_type": "markdown",
   "metadata": {},
   "source": [
    "# Tag suggestion"
   ]
  },
  {
   "cell_type": "code",
   "execution_count": 31,
   "metadata": {
    "collapsed": true
   },
   "outputs": [],
   "source": [
    "import json\n",
    "import requests\n",
    "from bs4 import BeautifulSoup"
   ]
  },
  {
   "cell_type": "code",
   "execution_count": 32,
   "metadata": {
    "collapsed": true
   },
   "outputs": [],
   "source": [
    "def clean_html_tags(html_text):\n",
    "    soup = BeautifulSoup(html_text, 'html.parser')\n",
    "    cleaned_text = soup.get_text()\n",
    "    cleaned_text = ''.join(cleaned_text.splitlines())\n",
    "    return cleaned_text\n",
    "\n",
    "\n",
    "def clean_html_and_js_tags(html_text):\n",
    "    soup = BeautifulSoup(html_text, 'html.parser')\n",
    "    [x.extract() for x in soup.findAll(['script', 'style'])]\n",
    "    cleaned_text = soup.get_text()\n",
    "    cleaned_text = ''.join(cleaned_text.splitlines())\n",
    "    return cleaned_text"
   ]
  },
  {
   "cell_type": "markdown",
   "metadata": {},
   "source": [
    "## Collect data from pocket"
   ]
  },
  {
   "cell_type": "code",
   "execution_count": 6,
   "metadata": {
    "collapsed": true
   },
   "outputs": [],
   "source": [
    "POCKET_CONSUMER_KEY = '81181-7609b9cda65f3b709888aa49'\n",
    "POCKET_ACCESS_TOKEN = '8e8e3a3c-1899-4fd3-fd94-5d8faf'\n",
    "POCKET_GET_API_URL = 'https://getpocket.com/v3/get'"
   ]
  },
  {
   "cell_type": "code",
   "execution_count": 7,
   "metadata": {
    "collapsed": true
   },
   "outputs": [],
   "source": [
    "HEADERS = {\n",
    "    'content-type': \"application/json;charset = UTF8\",\n",
    "    'x-accept': \"application/json\",\n",
    "    'cache-control': \"no-cache\"\n",
    "}"
   ]
  },
  {
   "cell_type": "code",
   "execution_count": 8,
   "metadata": {
    "collapsed": true
   },
   "outputs": [],
   "source": [
    "payload = {\n",
    "            \"consumer_key\": POCKET_CONSUMER_KEY,\n",
    "            \"access_token\": POCKET_ACCESS_TOKEN,\n",
    "            \"count\": 5000\n",
    "        }"
   ]
  },
  {
   "cell_type": "code",
   "execution_count": 9,
   "metadata": {
    "collapsed": true
   },
   "outputs": [],
   "source": [
    "res = requests.request(\"POST\", POCKET_GET_API_URL, data=json.dumps(payload), headers=HEADERS)\n",
    "res.raise_for_status()\n",
    "res_json = res.json()"
   ]
  },
  {
   "cell_type": "code",
   "execution_count": 30,
   "metadata": {},
   "outputs": [
    {
     "data": {
      "text/plain": [
       "'https://qiita.com/Ted-HM/items/7dde25dcffae4cdc7923'"
      ]
     },
     "execution_count": 30,
     "metadata": {},
     "output_type": "execute_result"
    }
   ],
   "source": [
    "url = res_json['list']['1038054283']['resolved_url']\n",
    "url"
   ]
  },
  {
   "cell_type": "code",
   "execution_count": 27,
   "metadata": {},
   "outputs": [],
   "source": [
    "res = requests.get(url)\n",
    "res.raise_for_status()"
   ]
  },
  {
   "cell_type": "code",
   "execution_count": 28,
   "metadata": {},
   "outputs": [],
   "source": [
    "res_text = res.text"
   ]
  },
  {
   "cell_type": "code",
   "execution_count": 33,
   "metadata": {},
   "outputs": [
    {
     "data": {
      "text/plain": [
       "'プログラミングでよく使う英単語のまとめ【随時更新】QiitaCommunitySignupLoginプログラミング英語English命名規則4317@Ted-HM プログラミングでよく使う英単語のまとめ【随時更新】プログラミング英語English命名規則4317プログラミングでよく使う英単語のまとめ【随時更新】随時追加、整理していきます。名前をつけるときには、名詞、動詞の違い、複数形、過去形などに注意しましょう。オブジェクト指向では、クラス名は名詞、メソッドは動詞とします。使ってはいけない言葉get / setアクセサ(getter/setter)やプロパティによく使われている。逆にそれ以外に使うと混乱を招くのでよくない。getと書かれたら軽量な処理と考えるので、中に重い処理は書いてはいけない。単純な取得/設定以外で使いたくなったら他の言葉を考える。load, save, commit, store, enable, disable,fetch, register, configure, add, etc...check意味が広すぎて何をしているかわからない。できるだけ別の言葉を使う。具体的に何をしているかに分解して考えるとよい。代わりによく使われるメソッド/プロパティ名は下記の通り。isNull, isEmpty, isNullOrEmpty, isValid, canSave, canClose,hasSaved, hasChanged, exists, contains, etc...change何をどう変更しているのかわからない。checkと同様に具体的に考えてみるとよい。isChangedのフラグを変更するためのChange()メソッドに使う場合は問題ない。xxxManager / xxxControllerこういう名前をつけるとクラスが肥大しやすい。単一責任の原則にのっとってクラスを設計するべし。UNIX哲学にも「Small is beautiful.」という考え方がある。xxxType, xxxData, xxxItem, xxxInfo冗長になりやすい。Type, Data, Item, Infoを取っても意味が通じないか検討してみる。使わないほうがよい言葉compare比較する。便利なときもあるが、比較した結果がどうなるか分かりにくいので他の動詞を検討する。exists, contains, equals, isSmall, etc...toggle切り替える、入れ替える。便利なときもあるが、切り替えた状態がどうなるか分かりにくいので他の動詞を検討する。turnOn, turnOff, etc...対になる言葉comment out / uncommentコメントにする、コメントを解除する。comment outはinto a commentの意味。commentだけならコメントする、評するの意味になる。add / remove追加する、削除する。リストなどに値を入れる場合などにも使われる。特に、末尾に追加する場合はappend、先頭に追加する場合はprependを使う。Add A to Bで、AをBに加える。Remove A From Bで、BからAを取り除く。start / stop開始する、止める。静止状態から動き出す感じがstart。begin / end始める、終わる。最初の一歩を踏み出す感じがbegin。first / last初め、終わり。単純な並びの場合や数を数える場合はfirstを使う。top / last先頭、末尾。順位やレベルを意識する場合はtopを使う。head / tail頭・尾から転じて先頭・末尾。ファイルの先頭や末尾を表すのに使う。header / footerヘッダー、フッター。本文を表す場合はtextやbodyが使われる。top / bottom頂上、底辺。up / down上へ、下へ。upper case / lower case大文字、小文字。under / over未満、超える。or under / and over以下、以上。greater thanとかnot less thanなど多数の言い方がある。previous / next前へ、次へ。go / back前へ、後ろへ。forward / backward前方、後方。foreground / background前景、背景。プログラミングでは使わないがmiddle-groundで中景という言い方もある。push / pull入れる、引っ張る。gitのコマンドで使われている。git pushと反対の動作はgit pullではなくgit fetchとなる。stash / pop隠す、取り出す。gitのコマンドで使われている。push / pop箱に入れる、中から取り出す。皿を重ねるイメージ。スタックに対して使う。enqueue / dequeueキューに追加する、キューから取り出す。queueは待ち行列の意味。末尾は上上(ueue)で覚えておくとスペルに迷わない。before / after適用前、適用後。parent / child / children / sibling / self親、子、子供達、兄弟、自身。XMLやTreeのNodeを示す場合などに。undo / redo取り消し、再実行。open / closeファイルやソケットを開く、閉じる。delete / restoreファイルを削除する、復元する。store / restore格納する、復元する。backup / restoreバックアップする、復元する。connect / disconnect回線を接続する、切断する。source / destination送り元、送り先。input / output入力する、出力する。デバイス(画面やキーボードなど)からの入出力。import / export取り込む、輸入する、インポート。外に出す、輸出する、エクスポート。download / uploadダウンロードする、アップロードする。request / response要求、希望、リクエスト。返答、反応、レスポンス。request / respondリクエストする、返答する。fetch / post取得する、投稿する。ネットワーク越しにデータを取ってくる場合はfetchが使える。postの代わりにsendでも可。read / writeファイルやポートを読み出す、書き込む。readは読む行為そのものを指す。serialize / deserializeシリアライズする、復元する。シリアライズとはメモリ上にあるデータをファイル形式に変換する処理。save / load保存する、読み込む。読み出して取り込む(設定する)までがload。set / unset設定する、解除する。resetは再設定する、セットし直す。lock / unlockロックする、解除する。attach / detach結びつける、切り離す。suspend / resume休止する、復帰する。enable / disable有効にする、無効にする。activate / deactivateアクティブ化する、非アクティブ化する。show / hide表示する、非表示にする。visible / hidden表示の、非表示の。hiddenの方がinvisibleより物理的な感じ。valid / invalid有効な、無効な。validationで検証の意味。collapse / expand折りたたむ、展開する。ツリーを操作する場合に使う。normal / abnormal正常、異常。明確な基準があって、当てはまっているかどうか。normal / error正常、異常。正常(通常、普通)とそれに失敗したこと。regular / irregular規則的な、不規則的な。日常的な、非日常的な。一定の繰り返しパターンがあり、そこに当てはまるかどうか。テレビ出演者のことをレギュラーと呼ぶが、毎回出演することから。general / special一般的な、特別な。generalは全体的、世間一般な感じ。ordinal / special平凡な、特別な。ordinalは特筆すべきことがないネガティブな感じ。common / special共通の、固有の。common / personal共用の、個人の。common settingsで共通設定。sharedは持ち主がいて分け与える意味での共有。common / uncommonありふれた、ありふれていない。available / unavailable利用可能、利用不可または入手可能、入手不可。allow / deny許可する、拒否する。アラウ、ディナイと発音する。ファイルシステムのパーミッションやネットワーク関連では失敗するとよくdeniedと言われる。host / guestホスト、ゲスト。客を招く側がホスト。客がゲスト。server / clientサーバー、クライアント。サービスを提供する側がサーバー。依頼する方がクライアント。provider / user提供者、使用者。caller / callee発信者、受信者から転じて関数の呼び出し元と呼び出し先。末尾がeeで終わると「された人」を表す。employee(従業員)、examinee(被験者)など。on-premise / cloudpremisesで施設。on-をつけて、施設内で。つまり自社システム。クラウドはインターネットを介したシステム一般のこと。クラウドサービスなど。似た意味の言葉 / ニュアンスの違いlog in / log outlog on / log offsign in / sign out / sign up / sign onlogは丸太に印を付けて記録していたのが語源。転じてパソコンのログに記録すること。log inは主にLinuxで使われる。アカウントに入る。log onは主にWindowsで使われる。signは署名なので、パソコンがない時代から使われている。sign inは主にWEBで見かける。署名して入る。sign upは申し込む場合。アカウントを作成する。sign onは書類にサインする場合。login, logon, signinは用法に違いはない。certification / authenticationcertificationは権威をもった第三者が証明するイメージ。認証局による証明。authenticationは二者間での証明。パスワード認証など。本人確認。日本語ではどちらも証明や認証となるので混乱する。identify / identification / identifier / identityそのユーザーが本人かどうか識別するのをidentify。動詞。識別する行為そのものはidentification。identifyの名詞形。識別、ID、身分証。そのユーザーを特定するために用い情報をidentifier。識別子。氏名、変数名など。そのユーザーを特徴付けるあらゆる情報をidentity。アイデンティティ、同一性。classify / classification / classclassifyは分類する。動詞。classificationは分類分け。classifyの名詞形。classは分類された区分。category / genre / groupcategoryは分類、種類、ジャンルのこと。genre(ジャンル)というのは特に芸術やエンタメで使われるカテゴリのこと。groupは共通性を持つ集団。どのカテゴリに属しているグループか。kind / class / typekindは大まかな種類分けで用いられる。品種。classは差別化した種類分けで用いられる。階級。typeは一般的な意味で種類を表す。より具体的な感じ。種類。class / rankclassは階級、等級、層を表す。区切りはしっかりしているが、幅がある感じ。rankは外部からの評価に対して使われる感じ。classより順位を意識させる。grade / levelgradeは等級や段階を表す。上下や優劣を表すが、幅がある感じ。levelは水準を表す。gradeより具体的な感じ。config / setting / preference構成、ハードよりの設定、開発者が設定するものはconfig。ソフト側の設定、ユーザーが変更できるものはsetting。ユーザーが設定するもので特に表示や挙動の好みの設定はpreference。基本はconfigとsettingの使い分けで十分。initialize / setup初期化する。セットアップする。一番初めに行う意味合いが強い。setupは名詞だが、set upだと動詞。終了の時に行うのはfinalize。stop / end / finish / complete / terminate再開する可能性があるのがstop。再開する予定がないのがend。最後まで完了して終わる、やり遂げるのがfinish。目標を達成して終わるのがcomplete。完璧な感じ。行き止まりまでいって終わるのがterminate。締めくくる感じ。stop / suspend / pause動いているものを止めるのがstop。再開する可能性はある。一時停止の場合はsuspend。一息ついた感じ。一旦動きを止める場合はpause。いつでも動き出せる。stop / break / abort / quit / exit動いているものを止めるのがstop。意味が広い。割って入って中断するのをbreak。異常によって中断されるのがabort。現在の状態から離れるのをquit。出口から抜け出すのをexit。その場所から立ち去る。calculate / compute数式を使った計算をするのがcalculate。難解な計算をするのがcompute。行列計算など。expression / formula数式やプログラミングの評価式を表すのはexpression。公式を表すのはformula。イコールを使う等式、方程式はequation。不等式はinequality。update / upgrade最新のものにするのがupdate。より優れたものに置き換えるのがupgrade。updateより交換の意味が強い。update / refresh最新のものを取得するのがupdate。新たにするのがrefresh。全体を更新するニュアンスがある。Windowsでは画面を更新する場合にInvalidate(無効化する)が使われるが、描画領域を無効化することによって再描画を促すため。update / changed / modified / revised情報を最新にするのがupdate。全面的に変更した場合はchanged。修正や改善を行った場合はmodified。書類の修正や改定、改版を行った場合はrevised。adjust / adapt何かに合わせて調節するのがadjust。サイズをピッタリ合わせる。周りの環境に合うように変更するのがadapt。コネクタの形に合わせるのがアダプター。fix / repair / restore / recover問題を解決する、元の状態に戻す、固定するのをfix。意味が広くいろいろ使える。複雑な機械を専門知識のある人が修理するのをrepaire。比較的小さいものに使う。元の状態に復元するのをrestore。価値の高いものや大きなものに使う。バックアップから戻すときにも使う。なんとか元の状態を取り戻す、復旧するのをrecover。元通りでなくても回復すればよい。OSの上書きインストールなど。output / exportそのまま出力するのがoutput。変換して書き出すのがexport。find / search for / look for / seek見つかるのを期待するのがfind。探してみるのがsearch。look forは最も一般的な探すという意味だが、比較的カンタンに見つかる場合に使用する。目に見えないモノを探すときはseek。findは見つかるのが前提なので、探してみる場合はtry to findまたはsearchを使う。bool Find(object target)bool TryToFind(object target)searchは目的語に場所を指定するのでメソッドにする場合は注意。bool Search(object place, object target)bool SearchFor(object target)search / retrieve検索するのがsearch。検索して取ってくるのがretrieve。searchは候補を並べて評価する手法のときに用いる。toXXX / convertToXXX / XXX.parse / XXX.tryParseXXXに変換する。メソッド名は動詞が原則だが、toは例外的に用いられる。tryがつく場合は変換を試みる。clear / delete中身だけ消すのがclear。外側も含めてすべて削除するのがdelete。erase / trash / delete消しゴムで消すのがerase。物理的でアナログな感じ。復元できない。ゴミを捨てるのがtrash(俗)。アナログな感じ。ゴミ箱がある。削除するのがdelete。デジタルな感じ。復元できる。テープやメモリの消去には慣例的にeraseが使われる。eraseした後には上書きできるイメージ。create / generate / make / build創造する、何もないところから生み出すのがcreate。何かを変換して生成するのがgenerate。材料から作り出すのがmake。材料を組み立てて作るのがbuild。明示的にインスタンスを作るときはcreateを使うことが慣例。parameter / argumentメソッドに定義してあるのがparameter。メソッドに渡された値はargument。仮引数(parameter)と引数(argument)とも言われる。話す上ではどちらも引数で通じる。property / attributeどちらも属性で用法に違いはない。ただし、分野や製品によって使い分けられている。オブジェクト指向のクラスの性質を表すのはpropety。HTMLのタグの属性はattribute。number / numeric数字、番号のことを表すのがnumber。数字のこと、特に10進数を表すのがnumeric。numericの方がより数学的な感じ。sum / total金額や合計、要約する、足し合わせたものがsum。合計、全体の、特に総計を表すのがtotal。limits / bounds / range境界、制限範囲、制限区域がlimits。制限の意味が強い。限界内、境界線がbounds。より数学的な感じ。境界を示している。値が変動する幅、上限下限が決められた範囲がrange。範囲を示している。limitsとboundsは複数形で用いられる。bounds checkで境界チェック。top / peak / spike頂上、てっぺん、先端がtop。山脈の中の一つの頂上がpeak。折れ線グラフなどの尖りはspike。迷ったらtopを使えば間違いない。exclude / ignore排除する、締め出す、考慮しないのがexclude。無視する、気がつかないフリをするのがignore。state / status状態や状況を意味するのがstate。状態という言葉を意味するのがstatus。ゲームのキャラなどのstatusで、毒というstateにあると考えるとよい。letter / text / characteraとかbとかの文字自体のことはletter。文字列や本文のことはtext。アルファベット全体、文字全体を指す場合はcharacter。title / caption本や記事の見出し、題名、表題がtitle。短い説明文、ページの見出しがcaption。subject / topic / theme主題、議題、大きな項目を表すのがsubject。小さな話題を表すのがtopic。subjectの下にぶら下がる感じ。特定の話題を表すのがtheme。subjectより感覚的な感じ。issue / problem問題、論点、争点、話し合うべきことをissue。困難を引き起こす問題で、解決が必要なのをproblem。individual / personal / private多くの人々に対しての個人がindividual。個別の。人数に関係なく、他の誰でもない、その個人を表すのがpersonal。個人的な。public(公の)に対する、private(私的の)。従業員一人ひとりを表す個人などはindividualを使えば良い。just / only何かを基準にして、ちょうど、たった今を表すのがjust。絶対的な意味で、唯一の、のみ、たったひとつをあわらすのがonly。within / inside of / less thanwithinは時間、距離、範囲を意味する以内。感覚的な感じ。within 3 secで3秒以内。in 3 secだと3秒後。inside ofは具体的な場所を示す。less thanは数字全般で使える。未満。以下ならor less。validate / verify要求を満たしているか、正しいのか確認するのはvalidate。工程の一部として組み込まれているチェックやテストがverify。より限定的な感じ。CD/DVDの書き込み工程の最後にverifyがある。日本語にするとどちらも検証するとなる。permit / allow / accept / grant法律や公式、免許で許可するのがpermit。違反すると罰がある、硬いイメージ。人が何かをするのを許可するのがallow。口語的な感じ。立場が上で偉そう。要求を受け入れ承認するのがaccept。立場は関係ない。許しを与えられるのがgrant。支給や付与されるイメージ。memo / note業務で記録するのはmemo。メモ書き、記録として残しておくのがnote。英語と日本語ではメモとノートのニュアンスが異なる。remark / note / commentちょっとした備考や注釈の場合はremark。一般的な備考の場合はnote。気づきを与える。コメントする、意見を述べるのがcomment。notice / caution / warning大切なことが書いてあるから読んでほしいのがnotice。注意や警告はcaution。絶対にしてはいけないのがwarning。コンパイラでwarningはありふれているが、実際は強い警告の意味がある。table / figuretableはデータを見やすく表にしたもの。figureはデータを図にしたもの。論文でよく登場する表現。plot / graphplotはグラフに書き出されたもの。概念的な感じ。graphはグラフや図表、図式など。数学的な感じ。chart / diagramchartは物事をわかりやすく図示したもの。棒グラフ、天気図。diagramは流れや関係性、意図を図示したもの。ネットワーク図、フローチャート、ベン図。chartはgraphもdiagramも含む、日本語で言う「図」という表現。diagramも広義では「図」といえるが、より概念的、抽象的な感じ。save / register / apply / entry / enrollsaveは保存する意味で登録する。反対語のloadと対で使うとよい。registerは一般的な意味での登録する。何にでも使える。applyは審査が必要な申請に登録する。申請する。ルールに沿って適用するイメージ。entryは入力する。書きっぱなしのイメージ。enrollは入会する、入学する、入隊する。supplement /complement補完する、足りないものを補うのがsupplement。２つのものを合わせて補完するのがcomplement。complementは相互の意味が強く、相手が必要。「1の補数」は「Two\\'s complement」となる。correct / right明確な基準があって正しい場合はcorrect。道徳的に正しい、判断や意見が正しい場合はright。間違いやすい言葉programmingmは2つ必要。programingという言い方もあるが少数派。license(us) / licence(uk)licenseの方が多数派。lisenceやlisenseは間違い。ライセンスを与えるものをlicenser。ライセンスを受けるものをlicensee。canceled(us) / cancelled(uk)近年はcanceledがよく使われるようになった。歴史的にはcancelledの方が古い。名詞形はcancellationしかない。collect / correctcollectは集める、コレクションする。correctは正しい、訂正する。cache / cashcacheはメモリなどのキャッシュ。cashは現金。registerregisterで登録する。resistは抵抗する。shieldのsと覚えるとよい。registと略すのは混乱の元なので省略しない。regと略すとWindowsのregistryを指すことが多い。raiseraiseEventでイベントを励起(起動)する。triggerはデータベースで使われているのでイベントには適さない。runやdoは使わない。disk / discdiskはdisketteの略で、ケース入りの磁気ディスクのことを指す。discは特に円盤を意味し、剥き出しの光学ディスクを指す。directory / folderdirectoryはLinux系で使われる、ディスク上の保存場所を指す。folderはWindows系で使われる、階層構造を指す。(directoryを含む)Windowsのコントロールパネルなどはディレクトリではないがフォルダである。index / indexes / indicesindexesは本やデータベースで索引を意味する場合。indicesは数学や統計で指数とか指標を意味する場合。crypto / cryptcryptoは暗号。cryptで止めると地下納骨堂。encrypt / decrypt暗号化する、解読(復号)する。暗号化の反対は復号化ではないので注意。svr / srvserverを略す場合はsvrを使うのが一般的。srvだとserviceを連想する。Reference Value参考値、基準値。判断の基準に使う参考値のこと。医者は正常値/異常値という言葉を嫌うため、基準値を使う。オブジェクトやメモリのreference(参照)とは関係ない。Regular Value幾何学系では正則値。Regular(正則)とは規則に従っていること。Standard Value一般的なという意味で標準値。規格内という意味で規格値とも。通常値 / 正常値通常値は平常値と言い換えたほうがわかりやすい。平常値(Usual Value)は、普段どおりの値。Usualは頻度を表す。正常値(Normal Value)は、何も問題がない範囲の値。正常値(Normal Value)より正常範囲(Normal Range)で用いられることが多い。既定値 / 規定値既定値(default value)は、工場出荷時などの初期設定値のこと。規定値(control value, minimal required value)は、製品の規格を定めた値。正則化 / 正規化正則化(regularization)は、統計や機械学習において、パラメータに罰則をかけ過学習を防ぐ手法。正規化(normalization)は、一定の規則に従いデータを利用しやすくすること。データベースの正規化やベクトルの正規化がある。間違いやすい読み方そもそもカタカナで表記しているので正しくない。日本人が英語の発音がダメなのはローマ字とカタカナのせいだと思う。doneダン。alignアライン。radius / relative / relationレイディアス、リラティブ、リレイション。temporaryテンポレェリィ。カタカナでテンポラリーと書くので勘違いしがち。falseフォルス。ファルスと読むとphallusで男根の意味。tipティップ。チップだとchipとなる。nullナル。ヌルで和製英語化している。pingピン。グは聞こえないけどngで発音している。丁寧に言うとgを強調してグになることもある。ピングで和製英語化している。JPEG / GIF / PNG / WebPMPEG / WebMジェイペグ、ジフ、ピング、ウェッピー。(静止画)エムペグ、ウェブエム。(動画)repository / Git / TotoiseGit / Mercurialリポジトリ、ギット、トータスギット、マーキュリアル。(バージョン管理)レポジトリだと違和感がある。nginxengine x(エンジン エックス)。(httpd)Xeonジーオン。(CPU)Ubuntu|oǒ\\'boǒntoō|ウブンツ、ウブントゥ、ウブンチュ。(Linux)ズールー語の発音を聞くとウブンツ。GNOMEグノーム。(Linux)英語読みだとノームだが、グノームと発音するのが正しい。頻出単語log記録、ログを取る。名詞と動詞が同じ。emitログをファイルに出力する。flush溜まっているデータやログをクリアする。押し流す、すべて吐き出す。fetchネットワークからデータを取得すること。CPUがメモリからデータを取得する場合にも使う。retrieveデータを探して取得すること。検索の意味でも使われる。stack積み重ね、積み重ねる。名詞と動詞が同じ。tokenトークン、しるし、証拠。字句解析の場合は、分解できない最小単位のこと。ネットワークなどの場合は、送信権をやり取りするデータのこと。optimize最適化する。normalize正規化する。NDA / Non-Disclosure Agreement秘密保持契約closureはcloseから変化して、締め切りを意味する。disclosureは否定形だから、閉鎖の反対で、公開する。non-disclosureは更に否定だから、秘密にする。cheatsheet虎の巻。使い方を1ページにまとめたもの。usage使用方法、使い方unknown未知の、正体不明の。unknown error, something happenedmisc / miscellaneous雑多な、多方面の。TOC / table of contents目次。description説明。SQLではdescは降順を意味するdescendingとなる。brief概要、要約する。recommend推奨する。features特徴、機能。たいてい複数形で用いる。via～によって、～を経由して。required必須の。reserved予約された。diversity多様性。Proof Of Conceptプロトタイプを作って検証すること。ecosystemエコシステム。生態系から転じて複数の企業・ソフトウェアが協力・連携してマーケットを育てる手法。omni channelオムニチャネル。複数の販売形態を持つこと。App Storeだけでなく、自社ダウンロード販売、店舗USB販売など。full stack上から下まで全部。full stack developer / engineerは、インフラからシステム開発、データベース、フロントエンドまですべて出来る人材。full stack frameworkは、必要な機能を全て備えたフレームワーク。関係のある言葉データの呼び出しと登録についてフォーム上にデータを呼び出すのをLoad。フォーム上のデータを保存するのをSave。ファイルやStreamから読み込むのをRead。ファイルやStreamに書き込むのをWrite。サーバーからデータを取得するのをFetch。サーバーへデータを送るのをSend。データを検索するのはRetrieve。データを登録するのはRegister。データベースでSELECTを実行するのをExecuteQuery。データベースでINSERT, UPDATE, DELETEを実行するのをExecuteNoneQuery。以下は一例。検索ボタンでSearchする。結果をサーバーからFetchする。クライアントはサーバーへRequestする。サーバーはデータベースへRetrieveする。データベースはSELECT文をExecuteQueryする。サーバーはクライアントへRespondする。検索結果をリストへAddして表示をRefreshする。リストからSelectする。選択されたキーから画面へデータをLoadする。結果をサーバーからFetchする。クライアントはサーバーへRequestする。サーバーはデータベースへRetrieveする。データベースはSELECT文をExecuteQueryする。サーバーはクライアントへRespondする。結果を画面にSetする。必要があればデータを書き換える。入力チェックでValidateして、CanSaveかどうか。もしくはTrySaveして保存を試みる。データをSaveする。データを画面からGetする。データをサーバーへSendする。クライアントはサーバーへRequestする。サーバーはデータベースへRegisterする。データベースはINSERT, UPDATE, DELETE文をExecuteNoneQueryする。サーバーはクライアントへRespondする。必要があれば画面をClearする。式、値、変数についてsyntax / statement / expression / operator / signaturesyntaxは構文。構文はstatementとexpressionからなる。statementは文。if文, for文, 関数呼び出し文など。expressionは評価される式。operatorは演算子。signatureはメソッド名、パラメータ、戻り値の型をあわせて表現したもの。プログラミング言語によって定義が異なる場合がある。prefix / suffix / affix接頭辞、接尾辞、接辞。disconnectのdis-やrestartのre-が接頭辞。playerの-erやnullableの-ableが接尾辞。suffixの代わりにpostfixでも意味は通じるがあまり使われない。affixは添付する、添えるの意味があり、prefixとsuffixをまとめて表現するときに使う。prefix notation / infix notation / postfix notation前置記法、中置記法、後置記法。ポーランド記法(+AB)、普通の数式(A+B)、逆ポーランド記法(AB+)。コンピューターで数式を処理する場合はスタックを用いた逆ポーランド記法がよく使われる。create / destroyインスタンスを作成する、インスタンスを破棄する。allocate / freeメモリを割り当てる、メモリを開放する。inheritance / overload / override継承。多重定義。上書き。delimiter / separator区切り文字。type型、データ型。文脈によっては種類を意味するので注意が必要。ハンガリアン記法が二種類できたのは文脈による意味の取り違えが原因。dynamic / staticdynamic(動的)は必要に応じて、随時処理を行うこと。static(静的)は事前に必要な処理をしておくこと。dynamic libraryは動作中にDLLをロードする。static libraryは予めLIBをリンクしてコンパイルする。ルーティングのdynamic routeは自動で追加され、static routeは予め手動で設定しておく。static変数は言語によって定義が異なるが、メモリ上に予め領域を確保しておく。Initial Value / Initialized Value初期値、初期化値。プログラムの初めや、コンストラクタで初期化される値。または変数と同時に宣言される値。初期値はなるべく入れたほうが予期せぬトラブルを減らせる。初期値を英訳すると、Initial Value, Default Value, Start Valueとなる。しかしプログラミングで初期値といえば、変数宣言時の初期化を指すことが多い。Default Value何も設定しなかった時の値、転じて既定値。工場出荷時の設定などの値。初期値の意味で使われることもあるが、厳密には違う。>>ここの説明がわかりやすい引数を省略した場合の値、その場合はOptional Valueとも。defaultのみだと怠慢や無作為を意味する。日本語でデフォと略して言う場合は、普通などという意味で使われる。Start Value / Starting Value開始値、初期値。処理を開始するときの初値など。Current Value現在値。Original Value元値。変更前の値。Parameter / Argument引数。区別するならparameterは仮引数、argumentは実引数。Return Value / Returned Value戻り値。Var(Variable)変数。Const(Constant)定数。Literalリテラル。直接記述された値のこと。変数と反対の意味。int x = 10;String str = \"abc\";10を数値リテラル、\"abc\"を文字列リテラルという。Primitive Data Typeプリミティブ型。基本型。組み込み型。プログラミング言語で最初から用意されている変数の型のこと。bool, char, int, short, long, double, float, unsigned charなど。Boolean, Int32, String, Decimalなど。declare / define変数や関数を定義すること。signatureシグネチャ。関数の型情報。関数の「戻り値の型」や「引数の型」の組み合わせのこと。null / nil存在しないこと。ヌル。英語読みだとナルだが、あまり聞かない。void空。ヌルと似たような意味。数値表現binary number2進数。先頭に0b-をつけて表現する。0b10で2を表す。octal number8進数。現在ではまず使われない。メインフレームの時代(1word=24bit)によく使われていた。先頭に0-をつけて表現する。010で8を表す。decimal number10進数hexadecimal number16進数。先頭に0x-をつけて表現する。0x10で16を表す。0xFF、FFH、0xFFHなど表現方法はいくつかある。RGBの値としてよく見かける。even / odd偶数、奇数。名詞または形容詞として用いる。真偽値true / false真、偽。トゥルー、フォルスと発音する。言語による違いも大きいが、通常は0以外がtrue、0がfalse。比較する場合はif (a == false)やif (a == 0)など偽と比較するとよい。理由は真値のバリエーションが多く、偽値と比較した方が間違いが少ないためと思われる。プログラムの終了ステータス(Exit Status, Return Code)は、0が通常終了、それ以外がエラーコードを表す。ただし、Linuxのファイルディスクリプタ、ファイルハンドルに限り、取得に失敗すると-1となる。なので、比較する場合は関数化しておくと混乱が少ない。bool FileDescriptor::isOpened() { return (fd != -1); }isXXX / canXXX / hasXXX状態を判定する場合。is-<形容詞>、can-<動詞>、has-<過去分詞>とする。isSaved、isNull、isNumber、canSave、hasConnectionなど。isXXXは動詞から始まるが、例外的に真偽値を表す変数名としてもよく使う。existsファイルなどが物理的に存在するかどうか。三単現のsをつける。containsリストなどに含まれているかどうか。三単現のsをつける。equals等しいかどうか。三単現のsをつける。型についてfloat浮動小数点数のこと。floating point numberから。double倍精度浮動小数点数。double precision floating point numberから。string文字列のこと。ひと続きのという意味。character stringsから。MemoryRAMRAM (Random Access read/write Memory)stack-based memoryスタック領域。静的メモリ領域とも。スコープを抜けると自動で開放される。heap memoryヒープ領域。動的メモリ領域とも。heapは、山積みを意味する。newやmallocした場合はこちらに確保される。deleteやfreeのし忘れでメモリリークを起こしやすい。またフラグメンテーションも起こしやすい。ROMROM (random access Read Only Memory)組み込みで書き込みを行うメモリ領域。BIOSやファームウェアが書き込まれている。必要なROMの容量は program + const + dataとなる。必要RAM容量はdata + bssである。※何故か日本ではAndroidスマホの内蔵ストレージ容量がROMと書かれている。たしかにフラッシュメモリはEEPROMだが、ROMだけ書かれると意味が違う。VECT section (Vector)割り込みベクターテーブルが書き込まれる領域。すべてのコンピュータはリセットベクタから開始される。Program sectionプログラムが格納される場所。text領域とも。Const section定数が格納される場所。rodata(read only data)領域とも。Data section初期値ありのグローバル変数が格納される場所。BSS section (Block Started by Symbol)初期値なしのグルーバル変数が格納される場所。メモリ用語の対比ROM (read only memory) - RWM (read write memory)RAM (random access read/write memory) - SAM (sequential access read/write memory)一般的にRAMと言った場合はRWMに分類されるRAMを指している。ROMはROM(Read Only Memory)の中のrandom access Read Only Memoryのことを指す。単位b / bit : binary digitB / Byte : 1byte=8bitKB / KiB : kilo byte (10^3) / kibi byte (2^10)MB / MiB : mega byte (10^6) / mebi byte (2^20)GB / GiB : giga byte (10^9) / gibi byte (2^30)MSB : Most Significant Bit(最上位ビット)LSB : Least Significant Bit(最下位ビット)MSBit / MSByteなどとbitかByteを明示する場合もある。bps : bits per second(ビット毎秒)B/s : bytes per second、1B/s=8bpssec : second(秒)ms  : millisecond(ミリ秒)、1sec=1000msecus  : microsecond(マイクロ秒)、1msec=1000usns  : nanosecond(ナノ秒)、1us=1000nsHz  : Hertz(周波数)、1MHz=1us周期組み込みの周期計算は厳密に2の冪乗(べきじょう)で計算しないとズレる。1MHz=1,048,576Hz=2^20HzdB  : decibel(デシベル)px  : pixel(画素数)、picture elementbpp : bits per pixel(色深度)記号! exclamation mark\" double quote, double quotation mark# hash, number, pound$ dollar% percent& ampersand\\' single quote, apostrophe() paren, parenthesis, round brackets- hyphen, minus, dash, bar= equal^ caret, hat, up arrow~ tilde\\\\ yen| pipe, vertical bar@ at mark` back quote[] brackets, square brackets{} braces, curly brackets; semicolon+ plus: colon* asterisk, star, comma. dot, period, point<> angle brackets/ slash? question mark\\\\ backslash_ underscore, underbar, underlineギリシャ文字Α α alpha アルファΒ β beta ベータΓ γ gamma ガンマΔ δ delta デルタΕ ε epsilon イプシロンΖ ζ zeta ゼータΗ η eta イータΘ θ theta シータΙ ι iota イオタΚ κ kappa カッパΛ λ lambda ラムダΜ μ mu ミューΝ ν nu ニューΞ ξ xi クシーΟ ο omicron オミクロンΠ π pi パイΡ ρ rho ローΣ σ sigma シグマΤ τ tau タウΥ υ upsilon ウプシロンΦ φ phi ファイΧ χ chi カイΨ ψ psi プサイΩ ω omega オメガ日付の表現date_created: よく使われるcreated_date: こっちもよく使われるcreation_date: あまり使われないcreated: DateTime型であればよいが、名前だけではboolと判別が付かないonとatでタイムスタンプを表すのはrailsで使われている用法。created_on: 作成日created_at: 作成日時updated_at: 更新日時created_datetime: DateTime型, timestamp型, YYYY-MM-DD HH:mm:SScreated_date: date型, YYYY-MM-DDユニックス時間、エポック時間と言って、1970-01-01からの秒数で表現する方法もある。int型で32bitだと2038年問題となるので注意。    public static long ToUnixTime(this DateTime date)    {        var epoch = new DateTime(1970, 1, 1, 0, 0, 0, DateTimeKind.Utc);        return Convert.ToInt64((date.ToUniversalTime() - epoch).TotalSeconds);    }狭いスコープで、日付を文字列で保持する場合、変数名でどのような形式か明示できる。var yyyyMMdd = DateTime.Now.ToString(\"yyyyMMdd\");var HHmmssfff = DateTime.Now.ToString(\"HHmmssfff\");データベース関連データベース関連のキーワードはすべて大文字で記すべし。SELECT t.name FROM table t;大文字小文字を区別する/しないデータベースがあるので、テーブル名、列名などは全て小文字で書く。逆にすべて大文字で書く文化もあるが、キーワードと区別がつかないので読みにくい。データベースによってはUsersとキャメルケースで書く場合もある。テーブル名は複数形にする場合が多い。テーブルが行の集まりなので複数形とするのが自然な捉え方となる。クラスにマッピングする場合に複数形だと配列やリストのような扱いが必要になるので、単数形とする必要がある。テーブル名を単数形にする文化もある。テーブルはコンテナなので単数形とするべきという考えである。この場合はクラス名とイコールになるので機械的に作業がしやすくなる。テーブル名にmst_, trn_, tbl_, m_, t_などを付けるときは一貫性を持たせる。そもそも冗長となるのでいらない。例えば、マスターとして作ったけど、更新が頻繁にあれば、それはもうマスターではないので、mst_となっていたら混乱のもと。_区切りはふたつ程度までがちょうどよい。外部キーのフィールドはすべて\"_id\"で終わる名前にする。列名に_id, _code, _type, _cd, _kbn, _flgなど付けるときは一貫性を持たせる。必ず付ける、略さない、混在させない、など。具体的には_codeと_cd、_typeと_typ、_kubunと_kbn、_flagと_flgを混在させない。_kbnは英語ではなくローマ字読みなので使わない。delete_flagとした場合、FALSEが削除済みなのか、TRUEが削除済みなのかわかりにくい。delete_flagではなくdeletedまたはis_deletedとすべき。_flagは曖昧で冗長なので使わない。_idは主キーや一意に識別できる番号に付ける。intまたはbigintが望ましい。_codeは意味のある記号や番号、コード体系化されているものに使用する。intが混じると混乱するのでtextに統一したい。_seqは連番に使用する。_number, _noは数字に使用する。_numは特に個数に使用する。郵便番号(postal_code, postcode, zip code)は日本語では番号だが、実態はコードである。顧客番号の場合はcustomer_numberだと数字だが、customer_codeは数字以外もありえる。ただし、業務での呼び名で～コードや～番号となっている場合は合わせた方が混乱が少ない場合もある。並び替えをするための列でsort_numberというフィールドをみたことがあるが、asc_orderとした方が意味が明確に伝わる。SQLSQLはエスキューエルまたはシークェルと読む。元になったデータベース言語がSEQUEL(Structured English Query Language)。an SQL(アン エス キュー エル)a SQL(ア シークェル)SQL文例    SELECT t.name FROM table_name t WHERE t.id = \\'1\\';    SELECT t.name FROM table_name t ORDER BY t.id DESC;    SELECT COUNT(t.day) FROM table_name t WHERE t.year = \\'2015\\' GROUP BY t.month HAVING t.month LIKE \\'J%\\';    UPDATE table_name SET code = \\'aaa\\' WHERE id = \\'1\\';    INSERT INTO table_name (id, code) VALUES (\\'1\\', \\'aaa\\');    INSERT INTO table_name VALUES (\\'1\\', \\'aaa\\');    INSERT INTO table_name (id, code) SELECT t.id, t.code FROM table_name2 t;    INSERT INTO table_name SELECT * FROM table_name2;    DELETE FROM table_name WHERE id = \\'1\\';キーワードTABLE : テーブル、表ROW   : ロー、行COLUMN: カラム、列SELECT: セレクト、選択UPDATE: アップデート、更新INSERT: インサート、挿入DELETE: デリート、削除UPSERT: アップサート、update or insertの意味CREATE: クリエート、表を作るDROP  : ドロップ、表を削除するINDEX : インデックス、索引PRIMARY KEY: 主キー、NOT NULL制約、一つだけUNIQUE KEY : ユニークキー、いくつでも作れるASC   : Ascending、昇順DESC  : Descending、降順よく使う言葉contact 連絡先full_name 氏名first_name 名前middle_name ミドルネームlast_name 名字honorific 敬称nicname ニックネームjob_title 肩書phone 電話番号、日本ではtelが一般的でなぜかtellともcell 携帯電話、日本ではmobileが一般的fax ファクシミリ(facsimile)mail メールアドレス、e-mailともweb WEBサイト、ホームページ、urlを使っても良いaddress1 住所1address2 住所2(何故かわかれていることが多い)postal_code 郵便番号country 国user ユーザーuser_code ユーザーコード(ログイン名)user_name ユーザー名(表示名)password パスワードpatient 患者patient_code 患者コードpatient_name 患者名patient_name_katakana 患者名(カナ)birth_date 生年月日、誕生日(birthday)ではないので注意sex_code 性別、ISO 5218を参照のことjob_role 職業note 備考、remarksともcustomer 顧客、取引先employer 雇用主employee 従業員quantity 数量order 注文orderというテーブル名を使いたいときは気をつける。(ORDER BYの予約語なので[order]としなければならない。)段組みtitle 題名subtitle 副題caption 短い説明、主に画像の説明part 部chapter 章section 節subsection 項paragraph 段落sentence 文word 語配列やリスト構造、文字列などclear / add / remove / append / prepend / inserttrim / split / compare / replace[0]から始まる配列zero-based(ゼロから始まる) or index origin = 0[1]から始まる配列one-based(1から始まる)ネットワーク関連listen / accept / send / receivelocal / remotepingピング。英語だとピンだが、あまり聞かない。TTLtime to live。パケットの生存期間(ホップ数)、またはDNSの有効期間(秒)。イベントClick / Clicking / Clicked / OnClick例えばクリックされたイベントの発生はClickedとする。時制を表す場合は、-ingまたは-edとする。クラス内部のイベントはOnClickに記述する。call / invokeただ単に呼びだすのをcall。直接的な感じ。別スレッド、別コンテキストの処理を呼びだすのをinvoke。お願いする感じ。delegate / dispatch処理を委譲するのがdelegate。代理に任せる感じ。アプリケーション内のイベントで使われる。タスクを割り振るのがdispatch。即実行する感じ。マルチタスクOSがプロセスを実行する際に使われる。図形point / x / y / offset座標、X軸, y軸、相対的な位置。画面の左上が(0, 0)となる。offsetは引き算するという意味がある。size / width / height大きさ、幅、高さ。ウィッズ(ウィドス)とハイトと発音する。発音は諸説あるが、些細な違いなので許容すべし。「昔」を意味する「かつて」を口語で「かって」と発音するようなもの。top / middle / bottomleft / center /rightfront / middle / backfront / center/ side / rearfill塗りつぶす。depth色深度。32bitカラー、16bitカラーなどのこと。省略した言葉スコープがごく狭い範囲でしか省略語は使ってはいけない。i    : integer(整数) / i, j, kn    : natural number(自然数) / n, mc    : charch   : charf    : floatd    : doublel    : longu    : unsigneduchar: unsigned charp    : pointer(ポインタ)ptr  : pointerg    : globalo    : objectobj  : objectt    : typee    : evente    : errorerr  : errorex   : exceptioniter : iteratorprop : propetyattr : attributeconf : configurationpref : preferencelen  : length(配列の長さ)cnt  : countnum  : numberstr  : stringbuf  : buffer(一時的な文字配列)mem  : memoryapp  : applicationdoc  : documentext  : extensiontxt  : texttmp  : temporaryconn : connectionaddr : addresscli  : clientsvr  : servercl   : clientsv   : serversrv  : servicesvc  : serviceh    : handlefh   : file handlefd   : file descriptormin  : minimummax  : maximumadd  : add(足す), addition(加算)sub  : subtract(引く), subtraction(減算)div  : divide(割る), division(除算)multi: multiply(掛ける), multipication(乗算)sum  : sum(合計する, 合計)avg  : average(平均)qty  : quantity(個数)tot  : total(総計)ttl  : totalTL   : totalLT   : less than(<、より小さい、以下)GT   : greater than(>、より小さい、以下)init : initializeexec : executeeval : evaluatesync : synchronousprev : previousw    : widthh    : heightsz   : sizept   : pointpos  : positionimg  : imagefig  : figurepct  : picturebg   : backgroundfg   : foregroundmid  : middlenav  : navigationreq  : requeststd  : standardcfg  : configconf : configsec  : secondmin  : minutess   : secondmm   : minutshh   : hoursdd   : daysMM   : monthsyyyy : yearsSun  : SundayMon  : MondayTue  : TuesdayWed  : WednesdayThu  : ThursdayFri  : FridaySat  : SaturdayDOW  : Day of the week(曜日)Jan  : JanuaryFeb  : FebruaryMar  : MarchApr  : AprilMay  : MayJun  : JuneJul  : JulyAug  : AugustSep  : SeptemberOct  : OctoberNov  : NovemberDec  : DecemberE    : Electromotive force(電圧)I    : Intensity of electric current(電流)R    : Resistance(抵抗 ohm、Ω)、E=RIf    : frequencyA    : Ampere(アンペア)V    : Volt(ボルト)W    : Watt(ワット)T    : temperature(温度)TEMP : temperature(温度)MSのシステムハンガリアンでよく使われている省略形obj  : Objectctl  : Controlfrm  : Formmdi  : MDIChildFormpnl  : Panelbtn  : Buttonlbl  : Labeltxt  : TextBoxchk  : CheckBoxcbo  : ComboBoxrdo  : RadioButtonlst  : ListBoxpic  : PictureBoximg  : Imagebmp  : Bitmapshp  : Shapegra  : Graphlin  : Linegrd  : DataGridView, DataGriddgv  : DataGridViewdgview : DataGridViewmnu  : Menuopt  : OptionButtontabs : TabPagesspn  : Spintmr  : Timerhsb  : HorizontalScrollbarvsb  : VerticalScrollbarani  : Animationclp  : Clipboardrpt  : Reportdb   : Databaseconn : Connectionole  : OLEContainersql  : SQLStatementqry  : Querydg   : DataGridView, DataGridds   : DataSetdt   : DataTabledr   : DataRowdata : DataSettbl  : Tablerow  : Rowrows : Rowscol  : Columncols : Columnsfld  : Fieldflds : Fieldsid   : ID, Identifiercd   : Codeidx  : Indexmcr  : Macrosnp  : Snapshottrn  : Transactionaddr : IPAddress名詞を作る接尾辞-ance : instance, resistance, impedance-ence : existence, silence-ency : dependency-ty   : difficulty-ity  : ability, reality-ion  : destruction-ment : development-ness : thickness, darkness-th   : growth-or   : selector-er   : player-eer  : engineer-age  : usageメタ構文変数サンプルプログラムなどで特に意味のない変数名に使われる。何者でもないものを意味する記号。foo, bar, baz, ...foobarと合わせて呼ぶこともある。hoge, piyo, hogera, hogehoge, ...hogeとpiyoの掛け合わせもある。unko一部に熱狂的な支持者がいる。spam, ham, eggspythonでよく使われる。Alice, Bob, Charlie, Dave, Eve, Ivan, ...プロトコルや暗号の説明でよく使われる人名。Aliceは本人や当事者。Bobは相手。Charlieは第三の当事者。Daveは第四の当事者。Eveは盗聴者(eavesdropper)など。Isaacはプロバイダ(ISP)。Justinは司法。山田太郎, John Smith, Hans Schmidt, ...名無しの権兵衛, John Doe, Jane Doe, ...リリースalpha release, alpha versionα版。開発初期や試作段階にあるソフトウェア。動作が不安定だったり、予期せぬトラブルがつきもの。beta release, beta versionβ版。評価版。開発途中にあるソフトウェア。RC (Release Candidate)リリース候補版。試用版。β版より更に製品に近づいた状態。版が進むとRC1, RC2, ... と増えていく。RTM (Release To Manufacturing)ゴールデンマスター。製品出荷版。製造ラインに載せるための最終段階。GA (General Availability)正規版。stable / devel安定版、開発版。製品への明確な基準がないOSSでよく使われている。安定版はテストなどを通しているので安心して使える。nightly build毎日の成果を反映した最新の状態。開発者が最新の機能を試すために利用する。SaaS (Software as a Service)WEBアプリケーションを提供すること。ネットを通してオンラインでソフトウェアを実行できる。PaaS（Platform as a Service）WEBアプリケーションの実行基盤を提供すること。GAE(Google App Engine)、Microsoft Azule、AWS(Amazon Web Services)など。俗語 / スラングInternetSlang.comXD : (笑)XXD : (爆)LOL(Laughing Out Loud) : (爆)ROFL(Rolling on the Floor Laughing) : (核爆)LMAO(Laughing My Ass Off) : (藁), ワラタ, クソワラタhaha : whehe : hahaより得意げだったり、照れたりayy, ayy lmao : wayyyyyy : wwwLOLOLOL : wwwlolz: ﾜﾗ(少し嘲笑が入る)hakspek, leet同じ発音の数字や記号に置き換えた表現をhakspekと称する。より隠語的な表現をする場合は1337を使う。1337→l33t→leet2U, 4Uto you, for youの略。あなたへ。thxThanksの略。ありがとう。pls, plzpleaseの略。お願いします。NPNo Problemの略。問題ないよ。分かりにくいのでまず略さない。GJGood Job。よくやった。ネトゲ用語なので、ネイティブは略さない。WIP(Work In Progress)未完成、未解決なもの。RTFM(Read The Fucking Manual)マニュアル読め。ヘルプくらい見ろ。>>QtのForumでよく見かける派生がたくさんある。>>WikipediaのRTFMを参照JFGI(Just Fucking Google It)ググれかす(ggrks)の意味。グーグルで検索しないで聞く人に対して使う。JをとってFGIとも。これも派生が多い。R.I.P(Rest in Peace / Requiescat in Pace)安らかに眠れ、冥福を祈るの意味。墓とかにR.i.pと刻まれる。RIPと書いても通じる。使われていないコードを消す時のコメントなどに。cf. (confer)………を参照。………と比較。関連項目として挙げる場合はsee alsoを使う。e.g. (exempli gratia)例えば(for example)。日本ではexと書かれることもあるが、e.g.を使うのが正しい。またexで始まる語は多いので略語としては適さない。i.e. (id est)すなわち、つまり、いわゆる。a.k.a. (also known as)………と知られる、またの名を、別名。AKAとも書かれる。N/A (not available, not applicable)利用できない、該当なし。NAとも書かれる。w/, w/owithとwithoutのこと。TL;DR (too long; didn\\'t read)長過ぎるから読まなかった。長すぎ。長文うざい。自分で書いた文章の頭につけて、長文注意の意味でも使う。Qiitaでもたまに目にするが、キャプションにつけて要約を表すことも。;(semicolon)「だから」「すなわち」「そして」にあたるsoやi.e.やandを意味する。TL;DRでは、長すぎる「から」読まなかった。ピリオドとカンマの中間くらい。:(colon)左側を具体的に説明する場合に使う。イコールに近い。記法についてCamelCase, InterCapsキャメルケース。文字の起伏がラクダのコブのように見えることから。主にオブジェクト指向言語で使われる。PascalCase / UpperCamelCase先頭を大文字から始める。camelCase / lowerCamelCase先頭を小文字から始める。snake_caseスネークケース。C, Perl, SQLなどで使われる。snake_case / SNAKE_CASE区切りをアンダーバーで表現する。C言語などでは定数を表す場合は全て大文字で書くのが慣例。chain-caseチェーンケース。PowerShellなどで使われる。chain-case / Chain-Case区切りをハイフンで表現する。ハンガリアン考案者の出身地にちなんで命名。名前に情報を追加して書く記法。元々はアプリケーション ハンガリアンとして考案された。本来は意味を表すプレフィックスを付け、間違ったコードを発見しやすくするもの。    int rpX; // 相対座標 Relative Position    int apY; // 絶対座標 Absolute Position    var point = new Point(rpX, apY); // rpとapが使われているので間違いだと気づく型情報を付与するのがシステム ハンガリアン。論文中のtypeを種類ではなく型情報と誤解し、コンパイラの型情報が十分でなかったC言語において広まった。    bool bFlag; // 論理型    char chChar; // 文字型    char[] sString, szString; // 文字列型, ゼロ終端文字列型    int iInteger; // 整数型    int* pPointer; // ポインタ型    int (*fnFunction)(void); // 関数ポインタ    int hFileHandle; // ハンドル型しっかりした型付け言語が登場して、使われなくなってきたが、たまにどこかで使われている。AndroidでGoogleのガイドラインに載ってたりする。    private int mMember { get; set; }    public static int sStatic { get; set; }アクセサは不要という流れアクセサ(getter/setter)とは、Java言語における、隠匿されたフィールドにアクセスするためのgetXXX/setXXXというメソッドのこと。JavaBeansにおいては、getter/setterを強制するという言語仕様があった。アクセサがあまりにも冗長なので廃れた。Java SE 7からpropertyが使える。public property String name;C#ではJavaのアクセサより洗練されたプロパティという仕組みがある。C#の言語バージョンが進むにつれ、より洗練されていった。public string Name { get; private set; } = 0;Rubyは言語仕様としてアクセサ(attr_accessor)を簡単に定義できる。attr_accessor :name, :price新しく登場した言語であるKotlinやSwiftではフィールドは宣言できず、全てプロパティとなる。public var name : Stringカプセル化オブジェクト内の振る舞いやデータを隠匿するカプセル化という考え型がある。多数のアクセサやプロパティを設けることにより、誰でも自由にデータを変更できるとカプセル化の原則に反してしまう。必要のない情報は公開しないようにする。言語によっては、フィールドをpublicにできるのでプロパティの代わりに利用されることがあるが、よくない設計である。簡潔に書けるからといって、フィールドをpublicにしてはいけない。(最近のVisual Studioでは警告が出るようになったらしい)デメテルの法則(LoD: Law of Demeter)、最小知識の原則(PLK: Principle of least knowledge)「知らないヤツには話しかけない」とも。アクセサやプロパティで他のクラスを参照できてしまうと、余計な依存関係が生まれてしまう。直接参照する必要のないクラスは隠匿しておくのがよい。求めるな、命じよ(TdA: Tell, don\\'t ask.)オブジェクト指向における重要な設計指針の一つ。関数型言語では、データを取得して、処理をして、データを戻すという手順をとるが、オブジェクト指向では、データを持つクラスに命じるだけで済む。この原則を守ることにより、データを取得する必要が最小限となる。翻訳サイトよく使う翻訳サイトは下記の通り英辞郎(アルク)多数の結果が引っかかるので探しやすいGoogle翻訳URLを渡せばサイトを丸ごと翻訳も可能Google細かいニュアンスなんかを調べるときは「\"XXX\" 翻訳」で検索する似た意味の言葉で迷ったら「\"XXX\" \"YYY\" 違い」などとするDictionary.com英語の語源なんかも調べられる。Wikitionary(en)意味、由来、用法、関連語などが調べられる。GitHubオープンソースなコードを検索できる。その単語がどういう使い方をされているか実例を見たい時に。参考にしたサイトお気に入りの記事きれいなソースコードを書くために必要な、たったひとつの単純な事鉄の意志、超重要Qiitaネイティブと働いて分かった英語コミットメッセージの頻出動詞10つプログラマなのに知らなかったら恥ずかしい英単語集英語コミットコメントに使えるオシャレフレーズ集ggrksと英語でコメントしたい時ネイティブと働いて分かった英語コミットメッセージの頻出動詞10つNaming -名前付け-日本人が間違いやすいコーディング上の英語技術記事読んだ時の英単語メモ①クラスの命名のアンチパターンよりよいネーミングを目指してコンピュータ業界でよく出る英語IT企業で英語を使う時の３つのポイント\"a SQL\" と \"an SQL\" どちらが正しいか？IT英単語の発音とスペル多忙なプログラマーのための軽トラな英語リスニング&スピーキングフォニックスで英語発音は良くなるそれ以外関数名によく使われる英単語の意味とニュアンス今更聞けないIT英語「よりよいコードを求めて命名について頭をひねる会」のログINFO: Object Hungarian Notation Naming Conventions for VB機械学習に出てくる数式で読めないギリシャ文字チートシートLOL - WikipediaEdit requestStockLike4317Ted-HMプログラミングでよく使う英単語のまとめ【随時更新】使ってはいけない言葉使わないほうがよい言葉対になる言葉似た意味の言葉 / ニュアンスの違い間違いやすい言葉間違いやすい読み方頻出単語関係のある言葉データの呼び出しと登録について式、値、変数について数値表現真偽値型についてMemoryRAMROMメモリ用語の対比単位記号ギリシャ文字日付の表現データベース関連SQLSQL文例キーワードよく使う言葉段組み配列やリスト構造、文字列などネットワーク関連イベント図形省略した言葉MSのシステムハンガリアンでよく使われている省略形名詞を作る接尾辞メタ構文変数リリース俗語 / スラング記法についてCamelCase, InterCapssnake_casechain-caseハンガリアンアクセサは不要という流れカプセル化デメテルの法則(LoD: Law of Demeter)、最小知識の原則(PLK: Principle of least knowledge)求めるな、命じよ(TdA: Tell, don\\'t ask.)翻訳サイト参考にしたサイトお気に入りの記事Qiitaそれ以外© 2011-2018 Increments Inc.TermsGuidelinePrivacyHelpAboutUsersTagsItemsBlogAPIQiita:Teamご意見'"
      ]
     },
     "execution_count": 33,
     "metadata": {},
     "output_type": "execute_result"
    }
   ],
   "source": [
    "clean_html_and_js_tags(res_text)"
   ]
  },
  {
   "cell_type": "code",
   "execution_count": null,
   "metadata": {
    "collapsed": true
   },
   "outputs": [],
   "source": [
    "def get_all_data_from_pocket():\n",
    "    try:\n",
    "        payload = {\n",
    "            \"consumer_key\": POCKET_CONSUMER_KEY,\n",
    "            \"access_token\": POCKET_ACCESS_TOKEN,\n",
    "            \"count\": 5000\n",
    "        }\n",
    "        res = requests.request(\"POST\", POCKET_GET_API_URL, data=json.dumps(payload), headers=HEADERS)\n",
    "        res.raise_for_status()\n",
    "        res_json = res.json()\n",
    "\n",
    "    except:\n",
    "        pass\n",
    "    return "
   ]
  }
 ],
 "metadata": {
  "kernelspec": {
   "display_name": "Python 3",
   "language": "python",
   "name": "python3"
  },
  "language_info": {
   "codemirror_mode": {
    "name": "ipython",
    "version": 3
   },
   "file_extension": ".py",
   "mimetype": "text/x-python",
   "name": "python",
   "nbconvert_exporter": "python",
   "pygments_lexer": "ipython3",
   "version": "3.5.2"
  }
 },
 "nbformat": 4,
 "nbformat_minor": 2
}
